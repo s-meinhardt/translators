{
 "cells": [
  {
   "cell_type": "code",
   "execution_count": 2,
   "metadata": {},
   "outputs": [],
   "source": [
    "import tensorflow as tf\n",
    "import tensorflow_datasets as tfds\n",
    "\n",
    "import numpy as np\n",
    "import time \n",
    "import matplotlib.pyplot as plt\n",
    "import os\n",
    "import shutil\n",
    "import logging\n",
    "\n",
    "logging.disable(logging.ERROR)\n",
    "os.environ[\"TF_CPP_MIN_LOG_LEVEL\"] = \"3\"\n",
    "\n",
    "%matplotlib inline"
   ]
  },
  {
   "cell_type": "markdown",
   "metadata": {},
   "source": [
    "### Configuring the GPU usage"
   ]
  },
  {
   "cell_type": "code",
   "execution_count": 3,
   "metadata": {},
   "outputs": [
    {
     "name": "stdout",
     "output_type": "stream",
     "text": [
      "Enabled memory growth for PhysicalDevice(name='/physical_device:GPU:0', device_type='GPU')\n",
      "Enabled memory growth for PhysicalDevice(name='/physical_device:GPU:1', device_type='GPU')\n",
      "Logical GPU's:  [LogicalDevice(name='/device:GPU:0', device_type='GPU')]\n"
     ]
    }
   ],
   "source": [
    "physical_gpus = tf.config.list_physical_devices('GPU')\n",
    "\n",
    "for gpu in physical_gpus:\n",
    "    tf.config.experimental.set_memory_growth(gpu, True)\n",
    "    print(f'Enabled memory growth for {gpu}')\n",
    "\n",
    "gpu = physical_gpus[1]   \n",
    "\n",
    "tf.config.set_visible_devices([gpu], 'GPU')\n",
    "\n",
    "print(\"Logical GPU's: \", tf.config.list_logical_devices('GPU'))\n",
    "    \n",
    "#strategy = tf.distribute.MirroredStrategy()\n",
    "\n",
    "AUTOTUNE = tf.data.experimental.AUTOTUNE\n"
   ]
  },
  {
   "cell_type": "markdown",
   "metadata": {},
   "source": [
    "### Setting up some path variables"
   ]
  },
  {
   "cell_type": "code",
   "execution_count": 13,
   "metadata": {},
   "outputs": [],
   "source": [
    "model_name = 'translator_de_en'\n",
    "version = 1\n",
    "package_path = os.path.join(model_name, f'{version:04d}')\n",
    "model_file = os.path.join(package_path, 'model.py')\n",
    "init_file = os.path.join(package_path, '__init__.py')\n",
    "preprocessing_file = os.path.join(package_path, 'preprocessing.py')\n",
    "vocabulary_path = os.path.join(package_path, 'vocabularies')  # change this to the location of your vocabulary files \n",
    "checkpoint_path = os.path.join(package_path, 'checkpoints')\n",
    "\n",
    "if not os.path.exists(package_path):\n",
    "    os.makedirs(package_path)\n",
    "    "
   ]
  },
  {
   "cell_type": "markdown",
   "metadata": {},
   "source": [
    "### Loading the tokenizers if they already exist"
   ]
  },
  {
   "cell_type": "code",
   "execution_count": 14,
   "metadata": {},
   "outputs": [],
   "source": [
    "inp_vocabulary_file = os.path.join(vocabulary_path, 'input_vocabulary')\n",
    "outp_vocabulary_file = os.path.join(vocabulary_path, 'output_vocabulary')\n",
    "\n",
    "# creating a dictionary of tokenizers\n",
    "try:\n",
    "    tokenizer = {}\n",
    "    tokenizer['input'] = tfds.features.text.SubwordTextEncoder.load_from_file(inp_vocabulary_file)\n",
    "    tokenizer['output'] = tfds.features.text.SubwordTextEncoder.load_from_file(outp_vocabulary_file)\n",
    "except:\n",
    "    print(\"No tokenizers found! Use 'build_and_save_tokenizer' to create some\")"
   ]
  },
  {
   "cell_type": "markdown",
   "metadata": {},
   "source": [
    "## Writing helper function and classes"
   ]
  },
  {
   "cell_type": "code",
   "execution_count": 5,
   "metadata": {},
   "outputs": [],
   "source": [
    "#%%writefile  utils.py\n",
    "\n",
    "class BeamSearch(tf.Module):\n",
    "    \n",
    "    def __init__(self, model, tokenizer, beam_width, max_seq_length, **kwargs):\n",
    "        super(BeamSearch, self).__init__(**kwargs)\n",
    "        self.model = model\n",
    "        self.inp_tokenizer = tokenizer['input']\n",
    "        self.outp_tokenizer = tokenizer['output']\n",
    "        self.inp_vocab_size = self.inp_tokenizer.vocab_size\n",
    "        self.outp_vocab_size = self.outp_tokenizer.vocab_size\n",
    "        self.beam_width = beam_width\n",
    "        self.max_seq_length = max_seq_length\n",
    "        self.stop_words = ['.', ' .', ' . ', '!', ' !', ' ! ', '?', ' ?', ' ? ']\n",
    "        self.stop_codes = [0] + list(map(lambda x: self.outp_tokenizer.encode(x)[0], self.stop_words))\n",
    "    \n",
    "    \n",
    "        \n",
    "    def __call__(self, sentence):\n",
    "    \n",
    "        # the probability distribution choosing <end> with certainty\n",
    "        end_distribution = tf.constant([1.] + self.outp_vocab_size*[0.], shape=[1, self.outp_vocab_size + 1])\n",
    "    \n",
    "        # add a <start> and <end> token to the input sentence and encode the result\n",
    "        enc_inp_sentence = tf.constant([self.inp_vocab_size] + self.inp_tokenizer.encode(sentence) + [0])    \n",
    "        enc_inp_sentence = enc_inp_sentence[tf.newaxis, : ]  # add a batch dimension\n",
    "    \n",
    "        # the encoded sentences\n",
    "        # the start sentence is just <start>\n",
    "        decoder_input = tf.constant(self.outp_vocab_size, shape=[1,1], dtype=tf.int32) \n",
    "    \n",
    "        # the probability of our sentences\n",
    "        # the start sentence has probability one\n",
    "        proba = tf.ones(shape=[1, 1], dtype=tf.float32)  \n",
    "    \n",
    "        for i in range(1, self.max_seq_length):\n",
    "        \n",
    "            # is the previous sentence ending with <end>\n",
    "            condition = tf.map_fn(lambda x: x in self.stop_codes, decoder_input[:, -1], dtype=tf.bool)[ : , tf.newaxis] \n",
    "        \n",
    "            # if all sentences end with <end>, stop the iteration\n",
    "            if tf.reduce_all(condition == True):\n",
    "                break\n",
    "        \n",
    "            # repeat the input sentence as many times as given by the batch size of decoder_input\n",
    "            encoder_input = tf.repeat(enc_inp_sentence, repeats = decoder_input.shape[0], axis=0)\n",
    "            \n",
    "            # computing the predictions using the model\n",
    "            predictions = self.model({'encoder_input': encoder_input, 'decoder_input': decoder_input}, training=False)\n",
    "\n",
    "            # compute the conditional probabilities for the next word \n",
    "            # do this for each previous sentence \n",
    "            probabilities = tf.nn.softmax(predictions[:, -1, :], axis = -1)  # (beam_width, output_vocab_size)\n",
    "                \n",
    "            # if previous sentence ends with <end>, pic end_distribution to choose <end> again\n",
    "            probabilities = tf.where(condition, end_distribution, probabilities)\n",
    "        \n",
    "            # choose the highes conditional probabilities for each previous sentence\n",
    "            top_cond_proba, top_words = tf.math.top_k(probabilities, k = self.beam_width)  # (beam_width, beam_width)\n",
    "        \n",
    "            # compute the probabilities for the new sentences and flatten the results\n",
    "            top_proba = tf.reshape(proba[:,tf.newaxis] * top_cond_proba, shape = [-1]) \n",
    "        \n",
    "            # flatten the lists of best next words\n",
    "            top_words = tf.reshape(top_words, shape = [-1])\n",
    "            \n",
    "            # choose among all sentence probabilities the best beam_width\n",
    "            proba, top_idx = tf.math.top_k(top_proba, k = self.beam_width)\n",
    "    \n",
    "            # pic the associated best next words\n",
    "            top_words = tf.gather(params = top_words, indices = top_idx) \n",
    "\n",
    "            # pic the previous sentences giving rise to the best next words\n",
    "            top_dec_inputs = tf.gather(params = decoder_input, indices = top_idx // self.beam_width)\n",
    "        \n",
    "            # extend the previous sentences with their best next words\n",
    "            decoder_input = tf.concat([ top_dec_inputs, top_words[:, tf.newaxis] ], axis = -1)\n",
    "            \n",
    "        translations= tf.map_fn(lambda x: self.outp_tokenizer.decode(x), decoder_input[:,1:], dtype=tf.string)\n",
    "        \n",
    "        return [translations, proba] \n",
    "        #return decoder_input\n",
    "    \n",
    "    \n",
    "    \n",
    "    def translations(self, sentence):\n",
    "        # compute self.beam_width many translations\n",
    "        translations, probabilities = self.__call__(sentence)\n",
    "        \n",
    "        print(f'Input: {sentence}\\n')\n",
    "        for i, translation in enumerate(translations):\n",
    "            print(f'Translation {i+1} with probability {100*probabilities[i]:.3f}%')\n",
    "            print(translation.numpy().decode() + '\\n')\n",
    "        \n",
    "    \n",
    "    \n",
    "    def translate(self, sentence):\n",
    "        # compute self.beam_width many translations\n",
    "        translations, probabilities = self.__call__(sentence)\n",
    "        \n",
    "        # pick the best and return it\n",
    "        best_idx = tf.argmax(probabilities).numpy()\n",
    "        return [translations[best_idx], probabilities[best_idx]]\n",
    "    "
   ]
  },
  {
   "cell_type": "code",
   "execution_count": 7,
   "metadata": {},
   "outputs": [],
   "source": [
    "#%%writefile  $init_file\n"
   ]
  },
  {
   "cell_type": "code",
   "execution_count": 9,
   "metadata": {},
   "outputs": [],
   "source": [
    "#%%writefile  $preprocessing_file\n",
    "\n",
    "import tensorflow as tf\n",
    "import tensorflow_datasets as tfds\n",
    "import os\n",
    "\n",
    "AUTOTUNE = tf.data.experimental.AUTOTUNE\n",
    "\n",
    "\n",
    "\n",
    "def build_and_save_tokenizer(corpus, max_vocab_size, directory = None):\n",
    "    \"\"\"Takes a corpus dataset consisting of pairs. Each pair is a sentence in the input language and its \n",
    "       translation into the output language. A pair of SubwordTextEncoders is build using the corpus and \n",
    "       saved to disc.\n",
    "    \n",
    "    Args:\n",
    "        corpus, a dataset of text: shape == (2,), dtype == tf.string\n",
    "        max_vocab_size: shape == (), dtype == tf.int64    # the maximal vocabulary size of the SubwordTextEncoders\n",
    "        directory: shape == (), dtype == tf.string    # the directory holding the two saved Encoders\n",
    "    \"\"\"\n",
    "      \n",
    "        \n",
    "    inp_tokenizer = tfds.features.text.SubwordTextEncoder.build_from_corpus(\n",
    "                        (inp.numpy() for inp, outp in corpus), target_vocab_size = max_vocab_size)\n",
    "\n",
    "    outp_tokenizer = tfds.features.text.SubwordTextEncoder.build_from_corpus(\n",
    "                        (outp.numpy() for inp, outp in corpus), target_vocab_size = max_vocab_size)\n",
    "    \n",
    "    if directory == None:\n",
    "        directory = os.getcwd()\n",
    "    \n",
    "    if not os.path.exists(directory):\n",
    "        os.makedirs(directory)\n",
    "    \n",
    "    inp_tokenizer.save_to_file(os.path.join(directory, 'input_vocabulary'))\n",
    "    outp_tokenizer.save_to_file(os.path.join(directory, 'output_vocabulary'))\n",
    "\n",
    "\n",
    "\n",
    "\n",
    "\n",
    "def input_fn(corpus, tokenizer, max_length = 40, batch_size = 64, shuffle_buffer_size = 1, \n",
    "             training=False, transformer=True):\n",
    "    \"\"\"Takes a corpus dataset consisting of pairs. Each pair is a sentence in the input language and its \n",
    "       translation into the output language. Both sentences will be tokenizes and encoded \n",
    "       resulting in a pair of sequences of integers. The dataset of such pairs will be batched,\n",
    "       padded and prefetched.\n",
    "       \n",
    "    Args:\n",
    "        corpus, a dataset of text: shape == (2,), dtype == tf.string\n",
    "        tokenizer, a dictionary of SubwordTextEncoders, keys = ['input', 'output']\n",
    "        max_length: shape == (), dtype == tf.int64\n",
    "        batch_size: shape == (), dtype == tf.int64\n",
    "        shuffle_buffer_size: shape == (), dtype == tf.int64\n",
    "        training: shape == (), dtype == tf.bool   \n",
    "        \n",
    "        \n",
    "    Returns:\n",
    "        dataset of batches: shape == (2, batch_size, None), dtype == tf.int64\n",
    "    \"\"\"\n",
    "    \n",
    "    inp_tokenizer = tokenizer['input']\n",
    "    outp_tokenizer = tokenizer['output']\n",
    "\n",
    "        \n",
    "        \n",
    "    def encode(inp_sentence, outp_sentence):\n",
    "        \"\"\"Tokenizing and encoding our input and output sentences\"\"\"\n",
    "        \n",
    "        inp_sequence = inp_tokenizer.encode(inp_sentence.numpy())\n",
    "        outp_sequence = outp_tokenizer.encode(outp_sentence.numpy())\n",
    "        \n",
    "        # add a code for a start (code = vocab_size) and end (code = 0) token\n",
    "        inp_sequence = [inp_tokenizer.vocab_size] + inp_sequence + [0]\n",
    "        outp_sequence = [outp_tokenizer.vocab_size] + outp_sequence + [0]\n",
    "        \n",
    "        return inp_sequence, outp_sequence\n",
    "        \n",
    "    \n",
    "     \n",
    "    def tf_encode(inp_sentence, outp_sentence):\n",
    "        \"\"\"Wrapping the non-Tensorflow 'encode' function into a 'tf.py_function' \n",
    "           turing it into a Tensorflow function which can be used in graph mode.\n",
    "           Such a Tensorflow function is need by the map() method below.\"\"\" \n",
    "        \n",
    "        inp_sequence, outp_sequence =  tf.py_function(func = encode, \n",
    "                                                       inp = [inp_sentence, outp_sentence], \n",
    "                                                      Tout = [tf.int32, tf.int32])\n",
    "        \n",
    "        inp_sequence.set_shape([None])   # The length depends on the sentence\n",
    "        outp_sequence.set_shape([None])  # We provide a 'shape' argument to avoid errors  \n",
    "    \n",
    "        return inp_sequence, outp_sequence\n",
    "\n",
    "\n",
    "    \n",
    "    def filter_max_length(inp_sequence, outp_sequence):\n",
    "        \"\"\"Creating a boolean mask marking all pairs of sequences of length <= max_length\"\"\"\n",
    "        \n",
    "        mask = tf.logical_and(tf.size(inp_sequence) <= max_length,\n",
    "                              tf.size(outp_sequence) <= max_length)\n",
    "        \n",
    "        return mask\n",
    "    \n",
    "    \n",
    "    \n",
    "    # apply the encode and filter functions; cache, shuffle and pad the dataset\n",
    "    sequences = corpus.map(tf_encode, num_parallel_calls=AUTOTUNE).filter(filter_max_length).cache()\n",
    "    \n",
    "    # if in training mode, shuffle the data and repeat infinitely many times\n",
    "    if training:\n",
    "        sequences = sequences.shuffle(shuffle_buffer_size, seed=1).repeat(None)\n",
    "    \n",
    "    # batch the sequences and apply padding, sequence length will be the longest in a batch\n",
    "    batches = sequences.padded_batch(batch_size)\n",
    "                \n",
    "    # if the dataset feeds the transformer, rearrange input and output\n",
    "    if transformer:\n",
    "        batches = batches.map(lambda x, y: ({ 'encoder_input': x, 'decoder_input': y[:,:-1] }, y[:,1:]), \n",
    "                              num_parallel_calls=AUTOTUNE)\n",
    "\n",
    "        \n",
    "    return batches.prefetch(AUTOTUNE)"
   ]
  },
  {
   "cell_type": "code",
   "execution_count": 9,
   "metadata": {},
   "outputs": [],
   "source": [
    "class Scale(tf.keras.layers.Layer):\n",
    "    \n",
    "    def __init__(self, factor, **kwargs):\n",
    "        super(Scale, self).__init__(**kwargs)\n",
    "        self.factor = factor\n",
    "      \n",
    "    \n",
    "    \n",
    "    def call(self, inputs):\n",
    "        return inputs*self.factor\n",
    "    \n",
    "    \n",
    "    \n",
    "    def compute_mask(self, inputs, mask=None):\n",
    "        return inputs._keras_mask\n",
    "    \n",
    "    \n",
    "    \n",
    "    def get_config(self):\n",
    "        base_config = super(Scale, self).get_config()\n",
    "        return {**base_config, 'factor': self.factor}\n",
    "    "
   ]
  },
  {
   "cell_type": "code",
   "execution_count": 10,
   "metadata": {},
   "outputs": [],
   "source": [
    "class MHA(tf.keras.layers.Layer):    # Multi Head Attention\n",
    "    \n",
    "    def __init__(self, d_query, d_value, n_heads, direction=None, *args, **kwargs):\n",
    "        super().__init__(*args, **kwargs)\n",
    "        \n",
    "        # adding some attributes\n",
    "        self.d_query = d_query      # dimension of the query space\n",
    "        self.d_value = d_value      # dimension of the value space\n",
    "        self.n_heads = n_heads      # number of heads\n",
    "        self.direction = direction  # time direction to which paying attention to\n",
    "                                    # if not 'past' or 'future' is selected, it will be 'both'\n",
    "                                    # default is 'None' resulting in 'both'\n",
    "        \n",
    "        # adding some dense layers\n",
    "        self.dense_q = tf.keras.layers.Dense(d_query)  # for query\n",
    "        self.dense_k = tf.keras.layers.Dense(d_query)  # for key \n",
    "        self.dense_v = tf.keras.layers.Dense(d_value)  # for value\n",
    "        self.dense_a = tf.keras.layers.Dense(d_value)  # for attention\n",
    "        \n",
    "        \n",
    "        self.c_query = self.d_query // self.n_heads   # num of query channels per head\n",
    "        self.c_value = self.d_value // self.n_heads   # num of value channels per head\n",
    "        \n",
    "        \n",
    "        \n",
    "    def create_direction_mask(self, shape, dtype):\n",
    "        \"\"\"Create a boolean mask depending on the self.direction argument. This mask controls \n",
    "           whether or not information can flow forwards, backwards or in both time directions.\n",
    "           \n",
    "        Args:\n",
    "            shape: shape == (2,), dtype == tf.int64   # shape of the boolean mask\n",
    "            dtype: object of class tf.dtypesint64E  # the data type to which the mask shall be casted\n",
    "            \n",
    "        Returns:\n",
    "            mask: shape == (2,), dtype = dtype\n",
    "        \"\"\"\n",
    "        \n",
    "        if self.direction == 'past':\n",
    "            return tf.linalg.band_part(tf.ones(shape, dtype), -1, 0)\n",
    "        elif self.direction == 'future':\n",
    "            return tf.linalg.band_part(tf.ones(shape, dtype), 0, -1)\n",
    "        else:\n",
    "            return tf.ones(shape, dtype)\n",
    "    \n",
    "    \n",
    "    \n",
    "    def split_heads(self, x, channels):\n",
    "        \"\"\"Split the last dimension into (n_heads, channels).\n",
    "           Transpose the result such that the shape is (batch_size, n_heads, n_query/key , channels).\n",
    "           The last step allows broadcasting over n_heads.\"\"\"\n",
    "        \n",
    "        x = tf.reshape(x, shape=(tf.shape(x)[0], -1, self.n_heads, channels))\n",
    "        \n",
    "        return tf.transpose(x, perm=[0, 2, 1, 3])\n",
    "    \n",
    "    \n",
    "    \n",
    "    def scaled_dot_product_attention(self, Query, Key, Value, Mask=None):\n",
    "        \"\"\"Calculate the dot product attention\n",
    "    \n",
    "        Args:\n",
    "            Query: shape == (batch_size, n_heads, n_query, d_query)\n",
    "            Key: shape == (batch_size, n_heads, n_key, d_query)\n",
    "            Value: shape == (batch_size, n_heads, n_key, d_value)\n",
    "            Mask: shape == (batch_size, n_heads, n_query, n_key) \n",
    "    \n",
    "        Returns:\n",
    "            attention_matrix: shape == (batch_size, n_heads, n_query, d_value)\n",
    "            weight_matrix: shape == (batch_size, n_heads, n_query, n_key)\n",
    "        \"\"\"\n",
    "        \n",
    "        d_query = tf.cast(tf.shape(Query)[-1], dtype=Query.dtype)  # dimension of query as float\n",
    "\n",
    "        score_matrix = tf.matmul(Query, Key, transpose_b=True) / tf.math.sqrt(d_query)   \n",
    "        # (batch_size, n_heads, n_query, n_key)\n",
    "\n",
    "        if Mask is not None:\n",
    "            score_matrix += (1.0 - Mask) * -1e19 \n",
    "\n",
    "        weight_matrix = tf.nn.softmax(score_matrix, axis = -1)   # (batch_size, n_heads, n_query, n_key)\n",
    "\n",
    "        attention_matrix = tf.matmul(weight_matrix, Value)     # (batch_size, n_heads, n_query, d_value)\n",
    "        \n",
    "        return attention_matrix, weight_matrix\n",
    "    \n",
    "    \n",
    "    \n",
    "    def call(self, query, key, value):\n",
    "        \n",
    "        dtype = query.dtype  # the data type of query, key and value        \n",
    "        batch_size = tf.shape(query)[0] # batch size of query, key and value \n",
    "             \n",
    "        \n",
    "        # To use tf.matmul(), it will be convenient to flatten the inner dimensions.\n",
    "        # Ex: a tensor of shape [d0, d1, d2, d3, d4] will become a tensor of shape [d0, d1 + d2 + d3, d4]\n",
    "        # This step will be reversed later.\n",
    "        Query = tf.reshape(query, shape = [batch_size, -1, self.d_query] )  # flatten the inner dimensions\n",
    "        Key = tf.reshape(key, shape = [batch_size, -1, self.d_query])       # flatten the inner dimensions \n",
    "        Value = tf.reshape(value, shape = [batch_size, -1, self.d_value])   # flatten the inner dimensions\n",
    "        \n",
    "        # computing the inner shapes, i.e. shapes without first (batch_size) and last dimension (d_query)\n",
    "        # these shapes have been flattened in the previous step\n",
    "        # Ex: in the previous example this is [d1, d2, d3]\n",
    "        inner_query_shape = tf.shape(query)[1:-1]   \n",
    "        inner_key_shape = tf.shape(key)[1:-1]\n",
    "        \n",
    "        # computing the size of the flattened inner shape, i.e. its total dimension\n",
    "        # Ex: in the previous example this is d1 + d2 + d3\n",
    "        n_query = tf.shape(Query)[1]  # number of queries\n",
    "        n_key = tf.shape(Key)[1]      # number of keys\n",
    "        \n",
    "        # applying some initial dense layers\n",
    "        Query = self.dense_q(Query)  # (batch_size, n_query, d_query)\n",
    "        Key = self.dense_k(Key)      # (batch_size, n_key, d_query)\n",
    "        Value = self.dense_v(Value)     # (batch_size, n_key, d_value)\n",
    "        \n",
    "        # splitting the last dimension into n_heads vectors and reordering the dimensions\n",
    "        Query = self.split_heads(Query, self.c_query)  # (batch_size, n_heads, n_query, c_query)\n",
    "        Key = self.split_heads(Key, self.c_query)      # (batch_size, n_heads, n_key, c_query)\n",
    "        Value = self.split_heads(Value, self.c_value)  # (batch_size, n_heads, n_key, c_value)\n",
    "        \n",
    "        # create direction mask and add dimensions to allow broadcasting\n",
    "        Mask = self.create_direction_mask([n_query, n_key], dtype)[tf.newaxis, tf.newaxis, : , : ]  \n",
    "        \n",
    "        # if a mask for 'value' is provided, it will be combined with the direction mask\n",
    "        # for this, we cast it to dtype and add dimensions to allow broadcasting\n",
    "        try:\n",
    "            mask = tf.cast(value._keras_mask, dtype = dtype)[:, tf.newaxis, tf.newaxis, :]\n",
    "            Mask *= mask\n",
    "        except:\n",
    "            #tf.print('No mask provided!')\n",
    "            pass\n",
    "        \n",
    "        # compute the attention and the attention weights\n",
    "        # attention shape = (batch_size, num_heads, n_query, c_value)\n",
    "        # weights shape = (batch_size, num_heads, n_query, n_key)\n",
    "        attention, weights = self.scaled_dot_product_attention(Query, Key, Value, Mask)\n",
    "              \n",
    "        # rearranging dimensions \n",
    "        attention = tf.transpose(attention, perm=[0, 2, 1, 3])    # (batch_size, n_query, n_heads, c_value)\n",
    "\n",
    "        # reshaping to reverse the flattening above\n",
    "        # new attention shape = (batch_size, inner_query_shape, d_value) \n",
    "        # new weights shape = (batch_size, n_heads, inner_query_shape, inner_key_shape)\n",
    "        new_attention_shape = tf.concat([[batch_size], inner_query_shape, [self.d_value]], axis=0)   \n",
    "        attention = tf.reshape(attention, shape = new_attention_shape) \n",
    "        new_weights_shape = tf.concat([[batch_size, self.n_heads], inner_query_shape, inner_key_shape], axis=0)\n",
    "        weights = tf.reshape(weights, shape = new_weights_shape)\n",
    "        \n",
    "        # applying the final dense layer\n",
    "        attention = self.dense_a(attention)   # (batch_size, inner_query_shape, d_value)\n",
    "\n",
    "        return attention, weights\n",
    "      \n",
    "        \n",
    "    \n",
    "    def compute_mask(self, query, mask=None):\n",
    "        \"\"\"Returns the Keras mask of the input query if available. As the input query is beeing processed \n",
    "           in the call() method, the Keras mask might have gone.\n",
    "           \n",
    "        Args:\n",
    "            query: shape == (..., n_query, d_query), dtype == tf.float32\n",
    "            mask: shape == (..., n_query, d_query),  dtype == tf.bool\n",
    "            \n",
    "        Returns:\n",
    "            mask: shape == (..., n_query, d_query),  dtype == tf.bool\n",
    "           \"\"\"\n",
    "        \n",
    "        try:\n",
    "            return query._keras_mask, None\n",
    "        except:\n",
    "            #tf.print('Query has no mask!')\n",
    "            return None, None\n",
    "            \n",
    "       \n",
    "    \n",
    "    def get_config(self):\n",
    "        base_config = super().get_config()\n",
    "        config = {**base_config, \n",
    "                  \"d_query\": self.d_query,\n",
    "                  \"d_value\": self.d_value, \n",
    "                  \"n_heads\": self.n_heads,\n",
    "                  \"c_query\": self.c_query,\n",
    "                  \"c_value\": self.c_value,\n",
    "                  \"direction\": self.direction}\n",
    "        return config\n",
    "    \n",
    " \n",
    "\n",
    "    @classmethod\n",
    "    def from_config(cls, config):\n",
    "        c_query = config.pop(\"c_query\")\n",
    "        c_value = config.pop(\"c_value\")\n",
    "        self = cls(**config)       \n",
    "        self.c_query = c_query\n",
    "        self.c_value = c_value\n",
    "        return self"
   ]
  },
  {
   "cell_type": "code",
   "execution_count": 11,
   "metadata": {},
   "outputs": [],
   "source": [
    "class MHAU(tf.keras.layers.Layer):   # Multi Head Attention Unit\n",
    "    \n",
    "    def __init__(self, d_query, d_value, d_hidden, n_heads, dropout_rate=0.1, direction=None, *args, **kwargs):\n",
    "        super().__init__(*args, **kwargs)\n",
    "        self.d_query = d_query\n",
    "        self.d_value = d_value\n",
    "        self.d_hidden = d_hidden\n",
    "        self.n_heads = n_heads\n",
    "        self.dropout_rate = dropout_rate\n",
    "        self.direction = direction\n",
    "        \n",
    "        # layers for block 1\n",
    "        self.MHA = MHA(d_query, d_value, n_heads, direction)\n",
    "        self.dropout1 = tf.keras.layers.Dropout(dropout_rate)\n",
    "        self.layernorm1 = tf.keras.layers.LayerNormalization(epsilon=1e-6)\n",
    "        \n",
    "        # layers for block 2\n",
    "        self.dense1 = tf.keras.layers.Dense(d_hidden, activation='relu')\n",
    "        self.dense2 = tf.keras.layers.Dense(d_value)\n",
    "        self.dropout2 = tf.keras.layers.Dropout(dropout_rate)\n",
    "        self.layernorm2 = tf.keras.layers.LayerNormalization(epsilon=1e-6)\n",
    "        \n",
    "    \n",
    "    \n",
    "    def call(self, query, key, value, training):\n",
    "\n",
    "        # block 1\n",
    "        x, weights = self.MHA(query, key, value)\n",
    "        x = self.dropout1(x, training = training)\n",
    "        x = tf.keras.layers.Add()([x, query])\n",
    "        x1 = self.layernorm1(x)\n",
    "\n",
    "        # block 2\n",
    "        x = self.dense1(x1)\n",
    "        x = self.dense2(x)\n",
    "        x = self.dropout2(x, training = training)\n",
    "        x = tf.keras.layers.Add()([x, x1])\n",
    "        x2 = self.layernorm2(x)\n",
    "\n",
    "        return x2, weights\n",
    "        \n",
    "    \n",
    "    \n",
    "    def compute_mask(self, query, mask=None):\n",
    "        try:\n",
    "            return query._keras_mask, None\n",
    "        except:\n",
    "            #tf.print('Query has no mask!')\n",
    "            return None, None\n",
    "        \n",
    "    \n",
    "    \n",
    "    def get_config(self):\n",
    "        base_config = super().get_config()\n",
    "        config = {**base_config,\n",
    "                  \"d_query\": self.d_query,\n",
    "                  \"d_value\": self.d_value,\n",
    "                  \"d_hidden\": self.d_hidden,\n",
    "                  \"n_heads\": self.n_heads,\n",
    "                  \"dropout_rate\": self.dropout_rate,\n",
    "                  \"direction\": self.direction}\n",
    "        return config"
   ]
  },
  {
   "cell_type": "code",
   "execution_count": 12,
   "metadata": {},
   "outputs": [],
   "source": [
    "class PositionalEmbedding(tf.keras.layers.Layer):\n",
    "    \n",
    "    def __init__(self, d_model, max_seq_length, vocab_size, dropout_rate, *args, **kwargs):\n",
    "        super().__init__(*args, **kwargs)\n",
    "        \n",
    "        self.d_model = d_model\n",
    "        self.max_seq_length = max_seq_length\n",
    "        self.vocab_size = vocab_size\n",
    "        self.dropout_rate = dropout_rate\n",
    "        self.factor = tf.math.sqrt(tf.cast(self.d_model, tf.float32))  \n",
    "        self.embedding = tf.keras.layers.Embedding(input_dim=vocab_size, output_dim=d_model, mask_zero=True)\n",
    "        self.pos_encoding = self.positional_encoding(max_seq_length=max_seq_length, d_model=d_model)\n",
    "        self.dropout = tf.keras.layers.Dropout(rate=dropout_rate)\n",
    "        \n",
    "        \n",
    "        \n",
    "    def positional_encoding(self, max_seq_length, d_model):\n",
    "        hdim = d_model // 2 # half-dimension\n",
    "    \n",
    "        exponents = tf.cast(tf.range(hdim)[tf.newaxis,:] / hdim, tf.float32)      # shape = [None, hdim], dtype = tf.float32\n",
    "        positions = tf.cast(tf.range(max_seq_length)[:, tf.newaxis], tf.float32)  # shape = [seq_length, None], dtype = tf.float32\n",
    "        angles = positions / tf.math.pow(10000., exponents)                       # shape = [seq_length, hdim]\n",
    "\n",
    "        # use 'sin' for the first half and 'cos' for the second half of feature indices\n",
    "        return tf.concat([tf.math.sin(angles), tf.math.cos(angles)], axis = 1)\n",
    "    \n",
    "    \n",
    "    \n",
    "    def call(self, x, training):\n",
    "        x = self.embedding(x)\n",
    "        x *= self.factor\n",
    "        x += self.pos_encoding[ tf.newaxis , : tf.shape(x)[1], : ]\n",
    "        x = self.dropout(x, training)\n",
    "        return x\n",
    "     \n",
    "    \n",
    "    \n",
    "    def compute_mask(self, x, mask=None):\n",
    "        return self.embedding.compute_mask(x)\n",
    "        \n",
    "\n",
    "    \n",
    "    def get_config(self):\n",
    "        base_config = super().get_config()\n",
    "        config = {**base_config, \n",
    "                  \"d_model\": self.d_model,\n",
    "                  \"max_seq_length\": self.max_seq_length,\n",
    "                  \"vocab_size\": self.vocab_size,\n",
    "                  \"dropout_rate\": self.dropout_rate,\n",
    "                  \"factor\": self.factor.numpy(),\n",
    "                  \"pos_encoding\": self.pos_encoding.numpy()}\n",
    "        return config\n",
    "    \n",
    "    \n",
    "    \n",
    "    @classmethod\n",
    "    def from_config(cls, config):\n",
    "        factor = config.pop(\"factor\")\n",
    "        pos_encoding = config.pop(\"pos_encoding\")\n",
    "        self = cls(**config)       \n",
    "        self.factor = tf.constant(factor, dtype=tf.float32)\n",
    "        self.pos_encoding = tf.constant(pos_encoding, dtype=tf.float32)\n",
    "        return self        "
   ]
  },
  {
   "cell_type": "code",
   "execution_count": 13,
   "metadata": {},
   "outputs": [],
   "source": [
    "def build_transformer(d_model, d_hidden, n_heads, n_layers, dropout_rate, \n",
    "                      max_seq_length, input_vocab_size, output_vocab_size):\n",
    "    \n",
    "    # Encoder block\n",
    "    input_enc = tf.keras.layers.Input(shape=[None], dtype=tf.int32, name='encoder_input')\n",
    "    x_enc = PositionalEmbedding(d_model, MAX_LENGTH, input_vocab_size, dropout_rate)(input_enc)\n",
    "    \n",
    "    for _ in range(n_layers):\n",
    "        x_enc, _ = MHAU(d_query=d_model, d_value=d_model, d_hidden=d_hidden, \n",
    "                        n_heads=n_heads, dropout_rate=dropout_rate, direction=None \n",
    "                        )(query=x_enc, key=x_enc, value=x_enc)\n",
    "\n",
    "\n",
    "        \n",
    "    # Decoder block\n",
    "    input_dec = tf.keras.layers.Input(shape=[None], dtype=tf.int32, name='decoder_input')\n",
    "    x_dec = PositionalEmbedding(d_model, max_seq_length, output_vocab_size, dropout_rate)(input_dec)\n",
    "    \n",
    "    for _ in range(n_layers):\n",
    "        x_tmp, _ = MHA(d_query=d_model, d_value=d_model, n_heads=n_heads, \n",
    "                       direction='past')(query=x_dec, key=x_dec, value=x_dec)\n",
    "        x_tmp = tf.keras.layers.Dropout(rate=dropout_rate)(x_tmp)\n",
    "        x_tmp = tf.keras.layers.Add()([x_tmp, x_dec])\n",
    "        x_dec = tf.keras.layers.LayerNormalization(epsilon=1e-6)(x_tmp)\n",
    "        x_dec, _ = MHAU(d_query=d_model, d_value=d_model, d_hidden=d_hidden, \n",
    "                        n_heads=n_heads, dropout_rate=dropout_rate, direction=None \n",
    "                        )(query=x_dec, key=x_enc, value=x_enc)\n",
    "\n",
    "    output_dec = tf.keras.layers.Dense(units=output_vocab_size, name='decoder_output')(x_dec)\n",
    "\n",
    "\n",
    "\n",
    "    return tf.keras.models.Model(inputs={'encoder_input': input_enc, 'decoder_input': input_dec}, outputs=output_dec)\n",
    "                   "
   ]
  },
  {
   "cell_type": "code",
   "execution_count": 14,
   "metadata": {},
   "outputs": [],
   "source": [
    "class Weighted_Loss(tf.keras.metrics.Metric):\n",
    "    \n",
    "    def __init__(self, **kwargs):\n",
    "        super(Weighted_Loss, self).__init__(**kwargs)\n",
    "        self.loss_object = tf.keras.losses.SparseCategoricalCrossentropy(from_logits=True, reduction='none')\n",
    "        self.sum_losses = self.add_weight(\"sum_losses\", initializer=\"zeros\")\n",
    "        self.sum_weights = self.add_weight(\"sum_weights\", initializer=\"zeros\")\n",
    "    \n",
    "\n",
    "    def update_state(self, y_true, y_pred, sample_weight=None):\n",
    "        sw = tf.cast(y_pred._keras_mask, dtype=y_pred.dtype)\n",
    "        if sample_weight is not None:\n",
    "            sw *= sample_weight\n",
    "        losses = self.loss_object(y_true, y_pred, sw)\n",
    "        self.sum_losses.assign_add(tf.reduce_sum(losses))\n",
    "        self.sum_weights.assign_add(tf.reduce_sum(tf.cast(sw, dtype=losses.dtype)))\n",
    "\n",
    "\n",
    "    def result(self):\n",
    "        return self.sum_losses / self.sum_weights\n",
    "\n",
    "    \n",
    "    \n",
    "class Factor(tf.keras.metrics.Metric):\n",
    "    \n",
    "    def __init__(self, **kwargs):\n",
    "        super(Factor, self).__init__(**kwargs)\n",
    "        self.sum_weights = self.add_weight(\"sum_weights\", initializer=\"zeros\")\n",
    "        self.sum_samples = self.add_weight(\"sum_samples\", initializer=\"zeros\")\n",
    "    \n",
    "\n",
    "    def update_state(self, y_true, y_pred, sample_weight=None):\n",
    "        sw = tf.cast(y_pred._keras_mask, dtype=y_pred.dtype)\n",
    "        if sample_weight is not None:\n",
    "            sw *= sample_weight\n",
    "        self.sum_weights.assign_add(tf.reduce_sum(tf.cast(sw, dtype=tf.float32)))\n",
    "        self.sum_samples.assign_add(tf.cast(tf.size(y_true), dtype=tf.float32))\n",
    "   \n",
    "\n",
    "    def result(self):\n",
    "        return self.sum_weights / self.sum_samples"
   ]
  },
  {
   "cell_type": "markdown",
   "metadata": {},
   "source": [
    "We use a costum learning rate scheduler as in the paper:\n",
    "\n",
    "$$ lrate = d_{model}^{-0.5} * \\min(step^{-0.5}, step*warmups^{-1.5}) $$"
   ]
  },
  {
   "cell_type": "code",
   "execution_count": 15,
   "metadata": {},
   "outputs": [],
   "source": [
    "class CustomSchedule(tf.keras.optimizers.schedules.LearningRateSchedule):\n",
    "    def __init__(self, d_model, warmups=4000, *args, **kwargs):\n",
    "        super().__init__(*args, **kwargs)\n",
    "        self.d_model = d_model\n",
    "        self.warmups = warmups\n",
    "    \n",
    "    def __call__(self, step):\n",
    "        lrate = self.d_model**-0.5 * tf.minimum(step**-0.5, step*self.warmups**-1.5)\n",
    "        return lrate\n",
    "    \n",
    "    def get_config(self):        \n",
    "        config = {'d_model': self.d_model, 'warmups': self.warmups}\n",
    "        return config"
   ]
  },
  {
   "cell_type": "code",
   "execution_count": 92,
   "metadata": {},
   "outputs": [],
   "source": [
    "class My_Callback(tf.keras.callbacks.Callback):\n",
    "    \n",
    "    def __init__(self, timeout, num_best_models=1, monitor='loss', mode='min', log_file='logs.txt', \n",
    "                 checkpoint_path=None, save_weights_only=False, reload_best_weights=True, report_freq=50, verbose=1):\n",
    "        super(My_Callback, self).__init__()\n",
    "        self.timeout = timeout                          # stop training after 'timeout' seconds\n",
    "        self.num_best_epochs = num_best_models          # how many models to keep\n",
    "        self.checkpoint_path = checkpoint_path          # path to the checkpoints\n",
    "        self.log_file = log_file\n",
    "        self.monitor = monitor                          # metric to monitor for saving \n",
    "        self.mode = mode                                # 'min' or 'max', whatever is better for the metric to monitor\n",
    "        self.save_weights_only = save_weights_only      # save only weights or entire model\n",
    "        self.reload_best_weights = reload_best_weights  # whether or not to reload the best weights after training\n",
    "        self.report_freq = report_freq                  # the number of training steps/batches after which to report the metrics  \n",
    "        self.verbose = verbose                          # 0: no reports, \n",
    "                                                        # 1: report after every epoch and after 'report_freq' batches\n",
    "                                                        # >=2: only report after every epoch\n",
    "        \n",
    "        \n",
    "    \n",
    "    def on_train_begin(self, logs):\n",
    "        self.model.History = {'loss': [], 'w_loss': [], 'accuracy': [], 'w_accuracy': [], 'factor': [], 'lr': []} # initializing the 'History'\n",
    "        self.training_start_time = time.time()\n",
    "        self.model.top_epochs = self.num_best_epochs*[(0,0)]         #  a sorted list to store the best 5 epochs, e.g. [(epoch=2, w_acc=0.2), ... , (epoch=6, w_acc=0.45)] \n",
    "        shutil.rmtree(self.checkpoint_path, ignore_errors=True)      # remove old checkpoints\n",
    "        self.model.checkpoint_path = self.checkpoint_path            # store the path to the checkpoints\n",
    "        with open(self.log_file, 'w') as f:\n",
    "            f.write(\"Training begins on \"+time.strftime(\"%a, %d %b %Y %H:%M:%S\", time.localtime())+'\\n')\n",
    "        with open(\"stop_training.txt\", \"w\") as f:             # initiating a text file allowing us to stop the training by changing \n",
    "            f.write('False')                                  # its content from 'False' to 'True'\n",
    "        \n",
    "        \n",
    "    def on_epoch_begin(self, epoch, logs):\n",
    "        self.start = time.time()\n",
    "        with open(self.log_file, 'a') as f:\n",
    "            f.write(f'\\nEpoch {epoch+1}\\n')\n",
    "\n",
    "        \n",
    "        \n",
    "    def on_train_batch_begin(self, batch, logs):\n",
    "        pass\n",
    "        \n",
    "\n",
    "        \n",
    "    def on_train_batch_end(self, batch, logs):\n",
    "        if batch % self.report_freq == 0:\n",
    "            # save the metrics to the 'History' list of the model\n",
    "            self.model.History['loss'].append(logs['loss'])\n",
    "            self.model.History['w_loss'].append(logs['w_loss'])\n",
    "            self.model.History['accuracy'].append(logs['accuracy'])\n",
    "            self.model.History['w_accuracy'].append(logs['w_accuracy'])\n",
    "            self.model.History['factor'].append(logs['factor'])\n",
    "            #self.model.History['lr'].append(optimizer._fallback_apply_state.values()[0])\n",
    "            \n",
    "            # if verbose ==1, print the metrics on the screen\n",
    "            if  self.verbose == 1:\n",
    "                with open(self.log_file, 'a') as f:\n",
    "                    f.write(f\"Batch {batch:6d}{'':6}Loss {logs['loss']:.4f}{'':6}w_Loss {logs['w_loss']:.4f}{'':6}Accuracy {logs['accuracy']:.4f}{'':6}w_Accuracy {logs['w_accuracy']:.4f}{'':6}Factor {logs['factor']*100:.2f}%\\n\")\n",
    "    \n",
    "        \n",
    "    \n",
    "    def on_epoch_end(self, epoch, logs):\n",
    "        time_since_start = int(time.time() - self.training_start_time)\n",
    "        days = time_since_start // (24*60*60)\n",
    "        hours = (time_since_start - 24*60*60*days) // (60*60)\n",
    "        minutes = (time_since_start - 24*60*60*days - 60*60*hours) // 60\n",
    "        seconds = time_since_start - 24*60*60*days - 60*60*hours - 60*minutes\n",
    "        \n",
    "        # if verbose >= 1, print the metrics on the screen\n",
    "        if self.verbose >= 1:\n",
    "            with open(self.log_file, 'a') as f:\n",
    "                f.write(\"Training results:\\n\")\n",
    "                f.write(f\"Epoch {epoch+1:5d}{'':6}Loss {logs['loss']:.4f}{'':6}w_Loss {logs['w_loss']:.4f}{'':6}Accuracy {logs['accuracy']:.4f}{'':6}w_Accuracy {logs['w_accuracy']:.4f}{'':6}Factor {logs['factor']*100:.2f}%\\n\")\n",
    "                f.write(\"Validation results:\\n\")\n",
    "                f.write(f\"Epoch {epoch+1:5d}{'':6}Loss {logs['val_loss']:.4f}{'':6}w_Loss {logs['val_w_loss']:.4f}{'':6}Accuracy {logs['val_accuracy']:.4f}{'':6}w_Accuracy {logs['val_w_accuracy']:.4f}{'':6}Factor {logs['val_factor']*100:.2f}%\\n\")\n",
    "                f.write(f\"Time taken for 1 Epoch: {time.time() - self.start:.2f} secs\\n\")\n",
    "                f.write(f\"Time since start {days} days {hours} hours {minutes} mins {seconds} secs\\n\")\n",
    "        \n",
    "        # checking if the current epoch has a better validation 'metric' than the worst stored epoch \n",
    "        metric = logs[self.monitor]\n",
    "        if (self.mode=='max' and metric > self.model.top_epochs[0][1]) or (self.mode=='min' and metric < self.model.top_epochs[0][1]):\n",
    "            \n",
    "            # if so, replace the worst stored epoch and sort the list again\n",
    "            (old_epoch, old_metric) = self.model.top_epochs[0]\n",
    "            self.model.top_epochs[0] = (epoch+1, metric)\n",
    "            self.model.top_epochs = sorted(self.model.top_epochs, key=lambda x: x[1])\n",
    "            if self.mode=='min':\n",
    "                self.model.top_epochs.reverse()\n",
    "            \n",
    "            # also delete the checkpoint of the worst stored epoch and save a new checkpoint           \n",
    "            try:\n",
    "                shutil.rmtree(os.path.join(self.checkpoint_path, f\"{old_epoch:04d}-{old_metric:.3f}\"))\n",
    "                if self.verbose >= 1:\n",
    "                    with open(self.log_file, 'a') as f:\n",
    "                        f.write(f\"\\nDeleted checkpoint {old_epoch:04d}-{old_metric:.3f}\\n\")\n",
    "            except:\n",
    "                pass\n",
    "            if self.save_weights_only:\n",
    "                self.model.save_weights(os.path.join(self.checkpoint_path, f\"{epoch+1:04d}-{metric:.3f}\"))\n",
    "            else:\n",
    "                self.model.save(os.path.join(self.checkpoint_path, f\"{epoch+1:04d}-{metric:.3f}\"))\n",
    "          \n",
    "        # stop training after self.timeout seconds       \n",
    "        if time_since_start > self.timeout : \n",
    "            self.model.stop_training = True\n",
    "\n",
    "        # stop training if the 'stop_training.txt' file contains 'True'\n",
    "        with open(\"stop_training.txt\", \"r\") as f:\n",
    "            stop_training = f.read()\n",
    "            if stop_training.lower().strip() == 'true':\n",
    "                self.model.stop_training = True\n",
    "                \n",
    "                \n",
    "            \n",
    "    def on_train_end(self, logs):\n",
    "        if self.reload_best_weights:\n",
    "            epoch, metric = self.model.top_epochs[-1]\n",
    "            path = os.path.join(self.checkpoint_path, f\"{epoch:04d}-{metric:.3f}\", \"variables/variables\")\n",
    "            self.model.load_weights(path)\n",
    "            with open(self.log_file, 'a') as f:\n",
    "                f.write(f\"\\nLoaded weights of epoch {epoch}.\\n\")\n",
    "                f.write(\"Training ends on \"+time.strftime(\"%a, %d %b %Y %H:%M:%S\", time.localtime())+'\\n')\n",
    " \n",
    "\n"
   ]
  },
  {
   "cell_type": "markdown",
   "metadata": {},
   "source": [
    "## Loading the dataset"
   ]
  },
  {
   "cell_type": "code",
   "execution_count": 30,
   "metadata": {},
   "outputs": [],
   "source": [
    "BUFFER_SIZE = 20000\n",
    "BATCH_SIZE = 128\n",
    "MAX_LENGTH = 40 # The maximal sequence length\n",
    "MAX_VOCAB_SIZE = 2**13  # The maximal number of subwords kept in the tokenizer vocabulary"
   ]
  },
  {
   "cell_type": "code",
   "execution_count": 55,
   "metadata": {},
   "outputs": [],
   "source": [
    "#examples , metadata = tfds.load(name='ted_hrlr_translate/pt_to_en', with_info=True, as_supervised=True)\n",
    "examples , metadata = tfds.load(name='wmt19_translate/de-en', with_info=True, as_supervised=True)\n",
    "train_examples, val_examples = examples['train'], examples['validation']"
   ]
  },
  {
   "cell_type": "code",
   "execution_count": 56,
   "metadata": {},
   "outputs": [
    {
     "name": "stdout",
     "output_type": "stream",
     "text": [
      "38690334 train examples\n",
      "2998 validation examples\n",
      "302268 train batches\n",
      "23 validation batches\n"
     ]
    }
   ],
   "source": [
    "num_train_examples = metadata.splits['train'].num_examples\n",
    "num_valid_examples = metadata.splits['validation'].num_examples\n",
    "\n",
    "print(f'{num_train_examples} train examples')\n",
    "print(f'{num_valid_examples} validation examples')\n",
    "\n",
    "steps_per_epoch = num_train_examples // BATCH_SIZE\n",
    "valid_steps = num_valid_examples // BATCH_SIZE\n",
    "      \n",
    "print(f'{steps_per_epoch} train batches')\n",
    "print(f'{valid_steps} validation batches')"
   ]
  },
  {
   "cell_type": "code",
   "execution_count": 33,
   "metadata": {},
   "outputs": [],
   "source": [
    "# Building and saving a pair of tokenizers\n",
    "\n",
    "#from .Transformer.preprocessing import build_and_save_tokenizer\n",
    "\n",
    "#build_and_save_tokenizer(train_examples, MAX_VOCAB_SIZE, directory = vocabulary_path)"
   ]
  },
  {
   "cell_type": "code",
   "execution_count": 62,
   "metadata": {},
   "outputs": [],
   "source": [
    "#from Transformer.model import input_fn\n",
    "\n",
    "train_dataset = input_fn(train_examples, tokenizer, MAX_LENGTH, BATCH_SIZE, BUFFER_SIZE, training=True, transformer=True)\n",
    "valid_dataset = input_fn(val_examples, tokenizer, MAX_LENGTH, BATCH_SIZE, BUFFER_SIZE, training=False, transformer=True)"
   ]
  },
  {
   "cell_type": "code",
   "execution_count": 63,
   "metadata": {},
   "outputs": [
    {
     "name": "stdout",
     "output_type": "stream",
     "text": [
      "Some training examples:\n",
      "{'encoder_input': <tf.Tensor: shape=(128, 40), dtype=int32, numpy=\n",
      "array([[33055,  6395,    17, ...,     0,     0,     0],\n",
      "       [33055,    25, 10330, ...,     0,     0,     0],\n",
      "       [33055,  1650,   162, ...,     0,     0,     0],\n",
      "       ...,\n",
      "       [33055,  2407,     1, ...,     0,     0,     0],\n",
      "       [33055,  1231,   292, ...,     0,     0,     0],\n",
      "       [33055,  8965, 10835, ...,     0,     0,     0]], dtype=int32)>, 'decoder_input': <tf.Tensor: shape=(128, 37), dtype=int32, numpy=\n",
      "array([[32836,  5578, 11071, ...,     0,     0,     0],\n",
      "       [32836,    79,     9, ...,     0,     0,     0],\n",
      "       [32836,  2146,   169, ...,     0,     0,     0],\n",
      "       ...,\n",
      "       [32836,  1192,     1, ...,     0,     0,     0],\n",
      "       [32836,  1682,   142, ...,     0,     0,     0],\n",
      "       [32836,  1326, 14229, ...,     0,     0,     0]], dtype=int32)>} tf.Tensor(\n",
      "[[ 5578 11071 32662 ...     0     0     0]\n",
      " [   79     9  6473 ...     0     0     0]\n",
      " [ 2146   169 21640 ...     0     0     0]\n",
      " ...\n",
      " [ 1192     1  1603 ...     0     0     0]\n",
      " [ 1682   142     1 ...     0     0     0]\n",
      " [ 1326 14229    14 ...     0     0     0]], shape=(128, 37), dtype=int32)\n",
      "Some validation examples:\n",
      "{'encoder_input': <tf.Tensor: shape=(128, 40), dtype=int32, numpy=\n",
      "array([[33055,    25, 14898, ...,     0,     0,     0],\n",
      "       [33055, 30566,  3367, ...,     0,     0,     0],\n",
      "       [33055,  5816, 16439, ...,     0,     0,     0],\n",
      "       ...,\n",
      "       [33055,   419,     3, ...,     0,     0,     0],\n",
      "       [33055,  8771,  5180, ...,     0,     0,     0],\n",
      "       [33055, 15068, 23665, ...,     0,     0,     0]], dtype=int32)>, 'decoder_input': <tf.Tensor: shape=(128, 39), dtype=int32, numpy=\n",
      "array([[32836,    15,  4135, ...,     0,     0,     0],\n",
      "       [32836, 25743, 31470, ...,     0,     0,     0],\n",
      "       [32836,   303,     2, ...,     0,     0,     0],\n",
      "       ...,\n",
      "       [32836,   438,     2, ...,     0,     0,     0],\n",
      "       [32836, 11538, 19639, ...,     0,     0,     0],\n",
      "       [32836, 29266, 24719, ...,     0,     0,     0]], dtype=int32)>} tf.Tensor(\n",
      "[[   15  4135    40 ...     0     0     0]\n",
      " [25743 31470   183 ...     0     0     0]\n",
      " [  303     2   217 ...     0     0     0]\n",
      " ...\n",
      " [  438     2  8070 ...     0     0     0]\n",
      " [11538 19639  2687 ...     0     0     0]\n",
      " [29266 24719  3019 ...     0     0     0]], shape=(128, 39), dtype=int32)\n"
     ]
    }
   ],
   "source": [
    "pt_batch, en_batch = next(iter(train_dataset))\n",
    "print(\"Some training examples:\")\n",
    "print(pt_batch, en_batch)\n",
    "\n",
    "pt_batch, en_batch = next(iter(valid_dataset))\n",
    "print(\"Some validation examples:\")\n",
    "print(pt_batch, en_batch)"
   ]
  },
  {
   "cell_type": "markdown",
   "metadata": {},
   "source": [
    "## Building and training the model"
   ]
  },
  {
   "cell_type": "code",
   "execution_count": 64,
   "metadata": {},
   "outputs": [],
   "source": [
    "DIM_MODEL =  128\n",
    "DIM_HIDDEN = 4 * DIM_MODEL\n",
    "NUM_HEADS = 8\n",
    "NUM_LAYERS = 4\n",
    "RATE = 0.1\n",
    "INPUT_VOCAB_SIZE =  tokenizer['input'].vocab_size + 1\n",
    "OUTPUT_VOCAB_SIZE = tokenizer['output'].vocab_size + 1"
   ]
  },
  {
   "cell_type": "markdown",
   "metadata": {},
   "source": [
    "Building the model"
   ]
  },
  {
   "cell_type": "code",
   "execution_count": 65,
   "metadata": {},
   "outputs": [],
   "source": [
    "#with strategy.scope():\n",
    "transformer = build_transformer(d_model = DIM_MODEL, \n",
    "                                d_hidden = DIM_HIDDEN, \n",
    "                                n_heads = NUM_HEADS, \n",
    "                                n_layers = NUM_LAYERS, \n",
    "                                dropout_rate = RATE, \n",
    "                                max_seq_length = MAX_LENGTH, \n",
    "                                input_vocab_size = INPUT_VOCAB_SIZE, \n",
    "                                output_vocab_size = OUTPUT_VOCAB_SIZE)"
   ]
  },
  {
   "cell_type": "code",
   "execution_count": 66,
   "metadata": {},
   "outputs": [
    {
     "data": {
      "image/png": "[encoded data removed]",
      "text/plain": [
       "<Figure size 432x288 with 1 Axes>"
      ]
     },
     "metadata": {
      "needs_background": "light"
     },
     "output_type": "display_data"
    }
   ],
   "source": [
    "learning_rate = CustomSchedule(d_model = DIM_MODEL)\n",
    "\n",
    "plt.plot(learning_rate(tf.range(50000, dtype=tf.float32)))\n",
    "plt.ylabel(\"Learning Rate\")\n",
    "plt.xlabel(\"Train Step\")\n",
    "plt.show()"
   ]
  },
  {
   "cell_type": "code",
   "execution_count": 67,
   "metadata": {},
   "outputs": [],
   "source": [
    "#with strategy.scope():\n",
    "transformer.compile(loss = tf.keras.losses.SparseCategoricalCrossentropy(from_logits=True),\n",
    "                    optimizer =  tf.keras.optimizers.Adam(learning_rate, beta_1=0.9, beta_2=0.98, epsilon=1e-9),\n",
    "                    metrics = [tf.keras.metrics.SparseCategoricalAccuracy(name='accuracy')],\n",
    "                    weighted_metrics = [tf.keras.metrics.SparseCategoricalAccuracy(name='w_accuracy'),\n",
    "                                        Weighted_Loss(name='w_loss'), \n",
    "                                        Factor(name='factor'),                                         \n",
    "                                       ])   # 'weighted' because we want to take padding masks into account "
   ]
  },
  {
   "cell_type": "code",
   "execution_count": 68,
   "metadata": {},
   "outputs": [],
   "source": [
    "weights = transformer.get_weights()"
   ]
  },
  {
   "cell_type": "code",
   "execution_count": null,
   "metadata": {},
   "outputs": [],
   "source": [
    "#transformer.set_weights(weights)"
   ]
  },
  {
   "cell_type": "code",
   "execution_count": 93,
   "metadata": {},
   "outputs": [],
   "source": [
    "#tf.random.set_seed(1)\n",
    "\n",
    "\n",
    "\n",
    "my_callback = My_Callback(timeout=12*60*60, \n",
    "                          num_best_models=5, \n",
    "                          monitor='val_w_accuracy', \n",
    "                          mode='max',\n",
    "                          log_file = os.path.join(package_path, 'logs.txt'),\n",
    "                          report_freq = 50,\n",
    "                          checkpoint_path = checkpoint_path,\n",
    "                          save_weights_only = False,\n",
    "                          reload_best_weights = True,\n",
    "                          verbose = 1)\n",
    "\n",
    "\n",
    "\n",
    "\n",
    "history = transformer.fit(train_dataset, \n",
    "                          validation_data = valid_dataset, \n",
    "                          epochs = 900,\n",
    "                          steps_per_epoch = 700,\n",
    "                          callbacks = [my_callback],\n",
    "                          verbose = 0)\n",
    "\n"
   ]
  },
  {
   "cell_type": "code",
   "execution_count": 94,
   "metadata": {},
   "outputs": [
    {
     "data": {
      "text/plain": [
       "ListWrapper([(72, 0.6304840445518494), (66, 0.6314554214477539), (62, 0.6315970420837402), (59, 0.6317589282989502), (67, 0.6332159638404846)])"
      ]
     },
     "execution_count": 94,
     "metadata": {},
     "output_type": "execute_result"
    }
   ],
   "source": [
    "transformer.top_epochs"
   ]
  },
  {
   "cell_type": "code",
   "execution_count": 97,
   "metadata": {},
   "outputs": [],
   "source": [
    "transformer.save(package_path)"
   ]
  },
  {
   "cell_type": "code",
   "execution_count": null,
   "metadata": {},
   "outputs": [],
   "source": [
    "#transformer = tf.keras.models.load_model('./test/transformer', custom_objects = {'MHA': MHA, \n",
    "#                      'MHAU': MHAU, \n",
    "#                      'PositionalEmbedding': PositionalEmbedding, \n",
    "#                      'Weighted_Loss': Weighted_Loss,\n",
    "#                      'Factor': Factor,\n",
    "#                      'CustomSchedule': CustomSchedule,\n",
    "#                      'My_Callback': My_Callback})"
   ]
  },
  {
   "cell_type": "markdown",
   "metadata": {},
   "source": [
    "## Results"
   ]
  },
  {
   "cell_type": "code",
   "execution_count": 95,
   "metadata": {},
   "outputs": [
    {
     "data": {
      "image/png": "[encoded data removed]",
      "text/plain": [
       "<Figure size 1080x576 with 2 Axes>"
      ]
     },
     "metadata": {
      "needs_background": "light"
     },
     "output_type": "display_data"
    }
   ],
   "source": [
    "loss = transformer.History['loss']\n",
    "w_loss = transformer.History['w_loss']\n",
    "acc = transformer.History['accuracy']\n",
    "w_acc = transformer.History['w_accuracy']\n",
    "epochs = range(len(loss))\n",
    "\n",
    "plt.figure(figsize=(15,8))\n",
    "plt.subplot(121)\n",
    "plt.plot(epochs, loss, color='r', label='loss')\n",
    "plt.plot(epochs, w_loss, 'bo', label='w_loss')\n",
    "plt.xlabel('Batches (in 50 steps)')\n",
    "plt.ylabel('Loss')\n",
    "plt.title('Loss')\n",
    "plt.legend()\n",
    "\n",
    "plt.subplot(122)\n",
    "plt.plot(epochs, acc, color='r', label='acc')\n",
    "plt.plot(epochs, w_acc, 'bo', label='w_acc')\n",
    "plt.xlabel('Batches (in 50 steps)')\n",
    "plt.ylabel('Accuracy')\n",
    "plt.title('Accuracy')\n",
    "plt.legend()\n",
    "\n",
    "#plt.show()\n",
    "plt.savefig(os.path.join(package_path, 'History.png'))"
   ]
  },
  {
   "cell_type": "code",
   "execution_count": 96,
   "metadata": {},
   "outputs": [
    {
     "data": {
      "image/png": "[encoded data removed]",
      "text/plain": [
       "<Figure size 1080x1080 with 4 Axes>"
      ]
     },
     "metadata": {
      "needs_background": "light"
     },
     "output_type": "display_data"
    }
   ],
   "source": [
    "loss = transformer.history.history['loss']\n",
    "val_loss = history.history['val_loss']\n",
    "acc = history.history['accuracy']\n",
    "val_acc = history.history['val_accuracy']\n",
    "w_loss = history.history['w_loss']\n",
    "val_w_loss = history.history['val_w_loss']\n",
    "w_acc = history.history['w_accuracy']\n",
    "val_w_acc = history.history['val_w_accuracy']\n",
    "epochs = range(len(loss))\n",
    "\n",
    "plt.figure(figsize=(15,15))\n",
    "plt.subplot(221)\n",
    "plt.plot(epochs, loss, color='r', label='train loss')\n",
    "plt.plot(epochs, val_loss, 'bo', label='valid loss')\n",
    "plt.xlabel('Epochs')\n",
    "plt.ylabel('Loss')\n",
    "plt.title('Training and validation loss')\n",
    "plt.legend()\n",
    "\n",
    "plt.subplot(223)\n",
    "plt.plot(epochs, acc, color='r', label='train acc')\n",
    "plt.plot(epochs, val_acc, 'bo', label='valid acc')\n",
    "plt.xlabel('Epochs')\n",
    "plt.ylabel('Accuracy')\n",
    "plt.title('Training and validation accuracy')\n",
    "plt.legend()\n",
    "\n",
    "plt.subplot(222)\n",
    "plt.plot(epochs, w_loss, color='r', label='train w_loss')\n",
    "plt.plot(epochs, val_w_loss, 'bo', label='valid w_loss')\n",
    "plt.xlabel('Epochs')\n",
    "plt.ylabel('Loss')\n",
    "plt.title('Training and validation weighted loss')\n",
    "plt.legend()\n",
    "\n",
    "plt.subplot(224)\n",
    "plt.plot(epochs, w_acc, color='r', label='train w_acc')\n",
    "plt.plot(epochs, val_w_acc, 'bo', label='valid w_acc')\n",
    "plt.xlabel('Epochs')\n",
    "plt.ylabel('Accuracy')\n",
    "plt.title('Training and validation weighted accuracy')\n",
    "plt.legend()\n",
    "\n",
    "#plt.show()\n",
    "plt.savefig(os.path.join(package_path, 'history.history.png'))"
   ]
  },
  {
   "cell_type": "markdown",
   "metadata": {},
   "source": [
    "## Combining the best models"
   ]
  },
  {
   "cell_type": "code",
   "execution_count": null,
   "metadata": {},
   "outputs": [],
   "source": [
    "def build_combined_model(model):\n",
    "    inputs = {name: inp for (name, inp) in zip(model.input_names, model.inputs)}\n",
    "\n",
    "    ckpts = [os.path.join(model.checkpoint_path, f\"{epoch:03d}-{metric:.3f}\") for (epoch, metric) in model.top_epochs]\n",
    "    custom_objects = {'MHA': MHA, \n",
    "                      'MHAU': MHAU, \n",
    "                      'PositionalEmbedding': PositionalEmbedding, \n",
    "                      'Weighted_Loss': Weighted_Loss,\n",
    "                      'Factor': Factor,\n",
    "                      'CustomSchedule': CustomSchedule,\n",
    "                      'My_Callback': My_Callback}\n",
    "    models = [ tf.keras.models.load_model(ckpt, custom_objects=custom_objects) for ckpt in ckpts]\n",
    "    \n",
    "    # renaming the models to avoid conflicts while initializing the combined model later\n",
    "    for i, _model in enumerate(models):\n",
    "        _model._name = model.name + f'_{i}'\n",
    "    \n",
    "    # computing the mean of all outputs by adding them up and dividing through the number of models\n",
    "    outp_sum = tf.keras.layers.Add()([_model(inputs) for _model in models])\n",
    "    factor = tf.constant(1./len(ckpts), outp_sum.dtype)\n",
    "    outp = Scale(factor)(outp_sum)\n",
    "    \n",
    "    # initializing and compiling the combined model\n",
    "    combined_model = tf.keras.Model(inputs=inputs, outputs = outp)\n",
    "    combined_model.compile( loss = model.loss,\n",
    "                            optimizer =  model.optimizer,\n",
    "                            metrics = model.compiled_metrics._metrics,\n",
    "                            weighted_metrics = model.compiled_metrics._weighted_metrics)\n",
    "\n",
    "    return combined_model\n",
    "\n",
    "\n",
    "combined_transformer = build_combined_model(transformer)"
   ]
  },
  {
   "cell_type": "code",
   "execution_count": null,
   "metadata": {},
   "outputs": [],
   "source": [
    "transformer.evaluate(valid_dataset)"
   ]
  },
  {
   "cell_type": "code",
   "execution_count": null,
   "metadata": {},
   "outputs": [],
   "source": [
    "combined_transformer.evaluate(valid_dataset)"
   ]
  },
  {
   "cell_type": "code",
   "execution_count": null,
   "metadata": {},
   "outputs": [],
   "source": [
    "# transformer.summary()"
   ]
  },
  {
   "cell_type": "code",
   "execution_count": null,
   "metadata": {},
   "outputs": [],
   "source": [
    "# combined_transformer.summary()"
   ]
  },
  {
   "cell_type": "code",
   "execution_count": null,
   "metadata": {},
   "outputs": [],
   "source": [
    "\n",
    "#combined_transformer.save()"
   ]
  },
  {
   "cell_type": "markdown",
   "metadata": {},
   "source": [
    "## Inference using Beam Search"
   ]
  },
  {
   "cell_type": "code",
   "execution_count": null,
   "metadata": {},
   "outputs": [],
   "source": [
    "BEAM_WIDTH = 3"
   ]
  },
  {
   "cell_type": "code",
   "execution_count": null,
   "metadata": {},
   "outputs": [],
   "source": [
    "bs = BeamSearch(transformer, tokenizer, BEAM_WIDTH, MAX_LENGTH)"
   ]
  },
  {
   "cell_type": "code",
   "execution_count": null,
   "metadata": {},
   "outputs": [],
   "source": [
    "\n",
    "bs.translate(\"vou então muito rapidamente partilhar convosco algumas histórias de algumas coisas mágicas que aconteceram.\")"
   ]
  },
  {
   "cell_type": "code",
   "execution_count": null,
   "metadata": {},
   "outputs": [],
   "source": [
    "bs.translate(\"este é um problema que temos que resolver.\")"
   ]
  },
  {
   "cell_type": "code",
   "execution_count": null,
   "metadata": {},
   "outputs": [],
   "source": [
    "bs.translations(\"este é um problema que temos que resolver.\")\n",
    "print (\"Real translation: this is a problem we have to solve .\")"
   ]
  },
  {
   "cell_type": "code",
   "execution_count": null,
   "metadata": {},
   "outputs": [],
   "source": [
    "bs.translations(\"vou então muito rapidamente partilhar convosco algumas histórias de algumas coisas mágicas que aconteceram.\")\n",
    "print (\"Real translation: so i 'll just share with you some stories very quickly of some magical things that have happened .\")\n"
   ]
  },
  {
   "cell_type": "code",
   "execution_count": null,
   "metadata": {},
   "outputs": [],
   "source": [
    "bs.translations(\"os meus vizinhos ouviram sobre esta ideia.\")\n",
    "print (\"Real translation: and my neighboring homes heard about this idea .\")"
   ]
  },
  {
   "cell_type": "code",
   "execution_count": null,
   "metadata": {},
   "outputs": [],
   "source": [
    "bs.translations(\"este é o primeiro livro que eu fiz.\")\n",
    "print (\"Real translation: this is the first book i've ever done.\")"
   ]
  },
  {
   "cell_type": "code",
   "execution_count": null,
   "metadata": {},
   "outputs": [],
   "source": [
    "bs.translations(\"este é o primeiro livro que eu fiz.\")\n",
    "print (\"Real translation: this is the first book i've ever done.\")"
   ]
  },
  {
   "cell_type": "markdown",
   "metadata": {},
   "source": [
    "## Exporting the translator"
   ]
  },
  {
   "cell_type": "markdown",
   "metadata": {},
   "source": [
    "### Saving the model and restricting the possible input signatures"
   ]
  },
  {
   "cell_type": "code",
   "execution_count": null,
   "metadata": {},
   "outputs": [],
   "source": [
    "input_signature = [{'encoder_input': tf.TensorSpec(shape=[None, None], dtype=tf.int32),\n",
    "                     'decoder_input': tf.TensorSpec(shape=[None, None], dtype=tf.int32)}]\n",
    "\n",
    "@tf.function(experimental_relax_shapes=True, input_signature=input_signature)\n",
    "def inference(inputs):\n",
    "    return transformer(inputs)\n",
    "\n",
    "signatures = {'serving_default': inference}"
   ]
  },
  {
   "cell_type": "code",
   "execution_count": null,
   "metadata": {},
   "outputs": [],
   "source": [
    "transformer.save('./test/transformer/v1')"
   ]
  },
  {
   "cell_type": "markdown",
   "metadata": {},
   "source": [
    "### Loading the model and wrapping it into a tf.function to avoid unnecessary tracing."
   ]
  },
  {
   "cell_type": "code",
   "execution_count": null,
   "metadata": {},
   "outputs": [],
   "source": [
    "MAX_LENGTH = 40\n",
    "BEAM_WIDTH = 3"
   ]
  },
  {
   "cell_type": "code",
   "execution_count": null,
   "metadata": {},
   "outputs": [],
   "source": [
    "loaded_model = tf.saved_model.load('./test/transformer/v1')\n",
    "training = False  # change this, if the model should be trained again\n",
    "\n",
    "input_signature = [{'encoder_input': tf.TensorSpec(shape=[None, None], dtype=tf.int32, name='encoder_input'),\n",
    "                     'decoder_input': tf.TensorSpec(shape=[None, None], dtype=tf.int32, name='decoder_input')}]\n",
    "    \n",
    "@tf.function(experimental_relax_shapes=True, input_signature=input_signature)\n",
    "def wrapped_model(inputs):\n",
    "    print(f\"Tracing with encoder input = {inputs['encoder_input']} and decoder input = {inputs['decoder_input']}\")\n",
    "    return loaded_model(inputs, training=training)\n",
    "\n",
    "# We wrap again to allow a 'training = False' argument in BeamSearch.__call__() algorithm \n",
    "def translator(inputs, **kwargs):\n",
    "    return wrapped_model(inputs)"
   ]
  },
  {
   "cell_type": "code",
   "execution_count": 15,
   "metadata": {},
   "outputs": [],
   "source": [
    "inp_tokenizer_file = os.path.join(vocabulary_path, 'input_vocabulary')\n",
    "outp_tokenizer_file = os.path.join(vocabulary_path, 'output_vocabulary')\n",
    "\n",
    "# creating a dictionary of tokenizers\n",
    "tokenizer = {}\n",
    "tokenizer['input'] = tfds.features.text.SubwordTextEncoder.load_from_file(inp_tokenizer_file)\n",
    "tokenizer['output'] = tfds.features.text.SubwordTextEncoder.load_from_file(outp_tokenizer_file)"
   ]
  },
  {
   "cell_type": "code",
   "execution_count": null,
   "metadata": {},
   "outputs": [],
   "source": [
    "bs = BeamSearch(translator, tokenizer, BEAM_WIDTH, MAX_LENGTH)"
   ]
  },
  {
   "cell_type": "code",
   "execution_count": null,
   "metadata": {},
   "outputs": [],
   "source": [
    "bs2.translations(\"vou então muito rapidamente partilhar convosco algumas histórias de algumas coisas mágicas que aconteceram.\")\n",
    "print (\"Real translation: so i 'll just share with you some stories very quickly of some magical things that have happened .\")"
   ]
  },
  {
   "cell_type": "markdown",
   "metadata": {},
   "source": [
    "### This version does not work after deleting all variables in memory, problem is with pyfunc"
   ]
  },
  {
   "cell_type": "code",
   "execution_count": null,
   "metadata": {},
   "outputs": [],
   "source": [
    "@tf.function\n",
    "def tf_translate(sentence):\n",
    "    translation, probability = tf.py_function(func = lambda sentence: bs.translate(sentence.numpy()), \n",
    "                                              inp = [sentence], Tout = [tf.string, tf.float32])\n",
    "    return {'translation': translation, 'probability': probability}\n",
    "\n",
    "    \n",
    "\n",
    "signatures = { 'serving_default': tf_translate.get_concrete_function(tf.TensorSpec(shape=[], dtype=tf.string)) }\n"
   ]
  },
  {
   "cell_type": "code",
   "execution_count": null,
   "metadata": {},
   "outputs": [],
   "source": [
    "transformer.save('./test/transformer/v2', signatures=signatures)"
   ]
  },
  {
   "cell_type": "code",
   "execution_count": null,
   "metadata": {},
   "outputs": [],
   "source": [
    "translator = tf.saved_model.load('./test/transformer/v2').signatures['serving_default']\n",
    "translator(tf.constant(\"este é um problema que temos que resolver.\"))"
   ]
  },
  {
   "cell_type": "code",
   "execution_count": null,
   "metadata": {},
   "outputs": [],
   "source": [
    "translator(tf.constant(\"os meus vizinhos ouviram sobre esta ideia.\"))"
   ]
  },
  {
   "cell_type": "code",
   "execution_count": null,
   "metadata": {},
   "outputs": [],
   "source": [
    "translator(tf.constant(\"vou então muito rapidamente partilhar convosco algumas histórias de algumas coisas mágicas que aconteceram.\"))"
   ]
  },
  {
   "cell_type": "code",
   "execution_count": null,
   "metadata": {},
   "outputs": [],
   "source": [
    "translator(tf.constant(\"vou então muito rapidamente partilhar  histórias de algumas coisas mágicas que aconteceram.\"))"
   ]
  },
  {
   "cell_type": "code",
   "execution_count": null,
   "metadata": {},
   "outputs": [],
   "source": [
    "translator(tf.constant(\"este é o primeiro livro que eu fiz.\"))"
   ]
  },
  {
   "cell_type": "markdown",
   "metadata": {},
   "source": [
    "### Setting up the TensorFlow Server (not working at the moment)"
   ]
  },
  {
   "cell_type": "code",
   "execution_count": null,
   "metadata": {},
   "outputs": [],
   "source": [
    "MODEL_DIR = './test/transformer'\n",
    "VERSION = 1\n",
    "\n",
    "export_path = os.path.join(MODEL_DIR, str(VERSION))\n",
    "\n",
    "transformer.save(export_path)"
   ]
  },
  {
   "cell_type": "code",
   "execution_count": null,
   "metadata": {},
   "outputs": [],
   "source": [
    "%%bash --bg\n",
    "tensorflow_model_server \\\n",
    "    --rest_api_port =8501  \\\n",
    "    --model_name=translator  \\\n",
    "    --model_base_path=\"${MODEL_DIR}\" > server.log 2>&1"
   ]
  },
  {
   "cell_type": "code",
   "execution_count": null,
   "metadata": {},
   "outputs": [],
   "source": [
    "%%bash\n",
    "\n",
    "tail server.log"
   ]
  },
  {
   "cell_type": "code",
   "execution_count": null,
   "metadata": {},
   "outputs": [],
   "source": [
    "%%bash --bg \n",
    "nohub tensorflow_model_server \\\n",
    "  --rest_api_port=8501 \\\n",
    "  --model_name=digits_model \\\n",
    "  --model_base_path=\"${MODEL_DIR}\" >server.log 2>&1"
   ]
  },
  {
   "cell_type": "code",
   "execution_count": null,
   "metadata": {},
   "outputs": [],
   "source": [
    "model = tf.saved_model.load('./Transformer/checkpoints/001-0.624/')"
   ]
  }
 ],
 "metadata": {
  "kernelspec": {
   "display_name": "project3_env",
   "language": "python",
   "name": "project3_env"
  },
  "language_info": {
   "codemirror_mode": {
    "name": "ipython",
    "version": 3
   },
   "file_extension": ".py",
   "mimetype": "text/x-python",
   "name": "python",
   "nbconvert_exporter": "python",
   "pygments_lexer": "ipython3",
   "version": "3.6.9"
  }
 },
 "nbformat": 4,
 "nbformat_minor": 4
}
